{
 "cells": [
  {
   "cell_type": "code",
   "execution_count": 5,
   "metadata": {},
   "outputs": [],
   "source": [
    "import pandas as pd\n",
    "import numpy as np\n",
    "\n",
    "df = pd.read_csv('summarize.1.log', delim_whitespace=True, header=None, index_col=0)\n",
    "df[1].replace(regex=True,inplace=True,to_replace=r'r=',value=r'')\n",
    "df[1] = df[1].values.astype(float)"
   ]
  },
  {
   "cell_type": "code",
   "execution_count": 8,
   "metadata": {},
   "outputs": [
    {
     "name": "stdout",
     "output_type": "stream",
     "text": [
      "t-SNE done! Time elapsed: 0.15444111824035645 seconds\n",
      "Index(['Temoridae', 'Phaeodaria', 'Haloptilus', 'Limacinidae',\n",
      "       'zoea__Decapoda', 'gonophore__Diphyidae', 'nectophore__Diphyidae',\n",
      "       'nauplii__Crustacea', 'multiple__Copepoda', 'Penilia', 'Foraminifera',\n",
      "       'Euchaetidae', 'tail__Appendicularia', 'Oikopleuridae', 'egg__other',\n",
      "       'Noctiluca', 'Evadne', 'nauplii__Cirripedia', 'Oncaeidae',\n",
      "       'Eucalanidae', 'tail__Chaetognatha', 'Ostracoda', 'multiple__other',\n",
      "       'eudoxie__Diphyidae', 'Salpida', 'Harpacticoida', 'Fritillariidae'],\n",
      "      dtype='object', name=0)\n"
     ]
    },
    {
     "data": {
      "image/png": "[encoded data removed]",
      "text/plain": [
       "<Figure size 842.4x595.44 with 1 Axes>"
      ]
     },
     "metadata": {},
     "output_type": "display_data"
    }
   ],
   "source": [
    "from sklearn.manifold import TSNE\n",
    "import matplotlib.pyplot as plt\n",
    "import seaborn as sns\n",
    "import time\n",
    "\n",
    "%matplotlib inline\n",
    "\n",
    "sns.set(rc={'figure.figsize':(11.7,8.27)})\n",
    "time_start = time.time()\n",
    "\n",
    "tsne = TSNE(random_state=42).fit_transform(df)\n",
    "\n",
    "print('t-SNE done! Time elapsed: {} seconds'.format(time.time()-time_start))\n",
    "sns.scatterplot(tsne[:,0],tsne[:,1], size=df[1], hue=df.index,palette='colorblind', legend=None)\n",
    "print(df.index)"
   ]
  },
  {
   "cell_type": "code",
   "execution_count": null,
   "metadata": {},
   "outputs": [],
   "source": [
    "from keras.models import load_model\n",
    "import testing as T\n",
    "base_model = load_model('models/epoch_8.model')"
   ]
  },
  {
   "cell_type": "code",
   "execution_count": null,
   "metadata": {},
   "outputs": [],
   "source": [
    "import os\n",
    "\n",
    "\n",
    "tdir='validate'\n",
    "classes = os.listdir(tdir)\n",
    "res = {}\n",
    "for c in classes:\n",
    "    images = os.listdir(os.path.join(tdir,c))\n",
    "    res[c] = [ T.class_file(base_model, os.path.join(tdir,c,f)) for f in images[:50]]"
   ]
  },
  {
   "cell_type": "code",
   "execution_count": null,
   "metadata": {},
   "outputs": [],
   "source": []
  },
  {
   "cell_type": "code",
   "execution_count": null,
   "metadata": {},
   "outputs": [],
   "source": [
    "data = pd.DataFrame()\n",
    "for c in classes:\n",
    "    arr = np.asarray(res[c]).reshape(50,64)\n",
    "    new_data = pd.DataFrame(arr)\n",
    "    #print(new_data)\n",
    "    new_data.insert(0, value=c, column='species')\n",
    "    data = data.append(new_data)\n",
    "print(data)\n",
    "np.shape(data)"
   ]
  },
  {
   "cell_type": "code",
   "execution_count": null,
   "metadata": {},
   "outputs": [],
   "source": [
    "sns.set(rc={'figure.figsize':(11.7,8.27)})\n",
    "time_start = time.time()\n",
    "tsne = TSNE(random_state=42).fit_transform(data.drop('species', axis=1))\n",
    "\n",
    "print('t-SNE done! Time elapsed: {} seconds'.format(time.time()-time_start))\n",
    "sns.scatterplot(tsne[:,0],tsne[:,1],hue=data['species'], palette='colorblind', legend=False)"
   ]
  }
 ],
 "metadata": {
  "kernelspec": {
   "display_name": "Python 3",
   "language": "python",
   "name": "python3"
  },
  "language_info": {
   "codemirror_mode": {
    "name": "ipython",
    "version": 3
   },
   "file_extension": ".py",
   "mimetype": "text/x-python",
   "name": "python",
   "nbconvert_exporter": "python",
   "pygments_lexer": "ipython3",
   "version": "3.6.8"
  }
 },
 "nbformat": 4,
 "nbformat_minor": 2
}
