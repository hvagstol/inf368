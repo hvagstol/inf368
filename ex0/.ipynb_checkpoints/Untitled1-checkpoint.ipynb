{
 "cells": [
  {
   "cell_type": "code",
   "execution_count": 1,
   "metadata": {},
   "outputs": [
    {
     "name": "stderr",
     "output_type": "stream",
     "text": [
      "Using TensorFlow backend.\n"
     ]
    },
    {
     "name": "stdout",
     "output_type": "stream",
     "text": [
      "              precision    recall  f1-score   support\n",
      "\n",
      "           0       0.99      1.00      0.99       980\n",
      "           1       0.99      1.00      1.00      1135\n",
      "           2       0.99      0.99      0.99      1032\n",
      "           3       0.99      0.99      0.99      1010\n",
      "           4       0.99      1.00      0.99       982\n",
      "           5       0.98      0.99      0.99       892\n",
      "           6       1.00      0.99      0.99       958\n",
      "           7       0.99      0.99      0.99      1028\n",
      "           8       0.99      0.99      0.99       974\n",
      "           9       0.99      0.98      0.99      1009\n",
      "\n",
      "   micro avg       0.99      0.99      0.99     10000\n",
      "   macro avg       0.99      0.99      0.99     10000\n",
      "weighted avg       0.99      0.99      0.99     10000\n",
      "\n",
      "\n",
      "\n",
      "final accuracy: 0.99060\n",
      "[7 2 1 ... 4 5 6]\n",
      "[7 2 1 ... 4 5 6]\n",
      "(array([], dtype=int64), array([], dtype=int64))\n"
     ]
    }
   ],
   "source": [
    "import matplotlib.pyplot as plt\n",
    "import seaborn as sns\n",
    "import json\n",
    "\n",
    "import numpy as np\n",
    "import seaborn as sns\n",
    "import h5py\n",
    "\n",
    "from keras import optimizers\n",
    "from keras.datasets import mnist\n",
    "from keras.utils import to_categorical\n",
    "from keras.models import Sequential, load_model\n",
    "from keras.layers import Dense, Dropout, Flatten\n",
    "from keras.layers import Conv2D, MaxPooling2D, AveragePooling2D\n",
    "from keras import regularizers\n",
    "from sklearn.model_selection import StratifiedKFold\n",
    "from keras.wrappers.scikit_learn import KerasClassifier\n",
    "from keras import regularizers\n",
    "\n",
    "from helpers import performance_eval, plot_samples, training_eval, save_summary, save_json, load_json, random_init\n",
    "\n",
    "model = load_json('final')\n",
    "model.load_weights('models/final_weights.h5') \n",
    "\n",
    "sns.set()\n",
    "sns.set_style(\"dark\")\n",
    "\n",
    "# Same random each run\n",
    "random_init(42)\n",
    "\n",
    "# Import MNIST dataset and labels from Keras\n",
    "\n",
    "(X_train, y_train), (X_test, y_test) = mnist.load_data()\n",
    "\n",
    "# Use seaborn for plots\n",
    "sns.set()\n",
    "sns.set_style(\"dark\")\n",
    "\n",
    "# Convert data to floating point and normalize to range 0-1\n",
    "X_train = X_train.astype('float32')/255\n",
    "X_test = X_test.astype('float32')/255\n",
    "\n",
    "# Reshape data for input to Conv2D layer\n",
    "X_train = X_train.reshape(X_train.shape[0], X_train.shape[1], X_train.shape[2], 1)\n",
    "X_test = X_test.reshape(X_test.shape[0], X_test.shape[1], X_test.shape[2], 1)\n",
    "\n",
    "# Convert class labels to categorical data/one-hot encoding\n",
    "y_test = to_categorical(y_test)\n",
    "y_train = to_categorical(y_train)\n",
    "\n",
    "# Predict and evaluate performance\n",
    "y_fit = model.predict(X_test, batch_size=128)\n",
    "performance_eval('final', y_fit.argmax(axis=1), y_test.argmax(axis=1))\n",
    "print(y_fit.argmax(axis=1))\n",
    "print(y_test.argmax(axis=1))\n",
    "print(np.where(np.equal(y_fit,y_test)))"
   ]
  },
  {
   "cell_type": "code",
   "execution_count": 3,
   "metadata": {},
   "outputs": [
    {
     "data": {
      "text/plain": [
       "(10000,)"
      ]
     },
     "execution_count": 3,
     "metadata": {},
     "output_type": "execute_result"
    }
   ],
   "source": [
    "np.shape(y_fit.argmax(axis=1))"
   ]
  },
  {
   "cell_type": "code",
   "execution_count": 7,
   "metadata": {},
   "outputs": [],
   "source": [
    "misclassifieds = X_test[np.where(y_fit.argmax(axis=1) != y_test.argmax(axis=1))]"
   ]
  },
  {
   "cell_type": "code",
   "execution_count": 22,
   "metadata": {},
   "outputs": [],
   "source": [
    "def plot_samples(data, title='samples', width=3,height=3):\n",
    "    subplot_no = 1\n",
    "    for sample in data:\n",
    "        plt.subplots_adjust(hspace=0.8, wspace=0.8)\n",
    "        plt.subplot(width,height,subplot_no)\n",
    "        subplot_no = subplot_no +1\n",
    "        plt.suptitle(title)\n",
    "        plt.xticks([])\n",
    "        plt.yticks([])\n",
    "        plt.imshow(sample, cmap='Greys')    \n",
    "    plt.savefig('output/' + title + '.png', bbox_inches='tight', dpi=1200)"
   ]
  },
  {
   "cell_type": "code",
   "execution_count": 13,
   "metadata": {},
   "outputs": [
    {
     "data": {
      "text/plain": [
       "(94, 28, 28)"
      ]
     },
     "execution_count": 13,
     "metadata": {},
     "output_type": "execute_result"
    }
   ],
   "source": [
    "np.shape(misclassifieds.reshape(94,28,28))"
   ]
  },
  {
   "cell_type": "code",
   "execution_count": 40,
   "metadata": {},
   "outputs": [
    {
     "name": "stdout",
     "output_type": "stream",
     "text": [
      "MNIST misclassifieds - predicted labels\n",
      "[[0 0 5 2 1 5 3 5 9 5 1 8]\n",
      " [2 4 5 1 5 3 7 9 7 5 3 4]\n",
      " [5 3 7 0 9 1 8 0 1 4 0 4]\n",
      " [3 5 1 0 2 5 5 5 9 0 1 4]\n",
      " [0 5 3 3 8 2 6 8 4 6 4 2]\n",
      " [7 0 7 8 4 2 7 5 4 4 3 5]\n",
      " [8 8 9 5 9 5 7 7 1 7 2 8]\n",
      " [6 8 5 2 2 2 8 3 6 0 0 0]]\n",
      "\n",
      "MNIST misclassifieds - target labels\n",
      "[[6 6 3 8 2 3 1 3 8 6 7 7]\n",
      " [7 9 9 7 3 8 9 7 8 9 8 9]\n",
      " [6 5 3 6 4 6 5 9 9 9 2 2]\n",
      " [5 9 6 8 3 9 3 3 7 6 9 6]\n",
      " [5 8 9 2 6 7 4 7 9 4 9 9]\n",
      " [2 2 9 2 9 3 8 3 9 9 2 3]\n",
      " [3 3 5 3 3 9 9 1 7 0 8 0]\n",
      " [1 7 8 7 7 7 0 6 5 5 6 6]]\n"
     ]
    },
    {
     "data": {
      "image/png": "[encoded data removed]",
      "text/plain": [
       "<Figure size 432x288 with 94 Axes>"
      ]
     },
     "metadata": {},
     "output_type": "display_data"
    }
   ],
   "source": [
    "mis_index = np.where(y_fit.argmax(axis=1) != y_test.argmax(axis=1))\n",
    "misclassifieds = X_test[mis_index]\n",
    "predicted_labels = y_fit.argmax(axis=1)[mis_index]\n",
    "target_labels = y_test.argmax(axis=1)[mis_index]\n",
    "print('MNIST misclassifieds - predicted labels')\n",
    "print(np.resize(predicted_labels, 8*12).reshape((8,12)))\n",
    "print('\\nMNIST misclassifieds - target labels')\n",
    "print(np.resize(target_labels, 8*12).reshape((8,12)))\n",
    "\n",
    "plot_samples(misclassifieds.reshape(94,28,28), title='MNIST_misclassifieds', width=8, height=12)\n",
    "\n"
   ]
  }
 ],
 "metadata": {
  "kernelspec": {
   "display_name": "Python 3",
   "language": "python",
   "name": "python3"
  },
  "language_info": {
   "codemirror_mode": {
    "name": "ipython",
    "version": 3
   },
   "file_extension": ".py",
   "mimetype": "text/x-python",
   "name": "python",
   "nbconvert_exporter": "python",
   "pygments_lexer": "ipython3",
   "version": "3.6.8"
  }
 },
 "nbformat": 4,
 "nbformat_minor": 2
}
