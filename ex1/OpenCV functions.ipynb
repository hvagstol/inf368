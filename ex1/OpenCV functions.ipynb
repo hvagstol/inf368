{
 "cells": [
  {
   "cell_type": "code",
   "execution_count": 2,
   "metadata": {},
   "outputs": [
    {
     "data": {
      "image/jpeg": "[encoded data removed]",
      "text/plain": [
       "<IPython.core.display.Image object>"
      ]
     },
     "metadata": {},
     "output_type": "display_data"
    },
    {
     "data": {
      "image/jpeg": "[encoded data removed]",
      "text/plain": [
       "<IPython.core.display.Image object>"
      ]
     },
     "metadata": {},
     "output_type": "display_data"
    },
    {
     "name": "stdout",
     "output_type": "stream",
     "text": [
      "(224, 224, 3)\n",
      "[[[255 255 255]\n",
      "  [255 255 255]\n",
      "  [255 255 255]\n",
      "  ...\n",
      "  [255 255 255]\n",
      "  [255 255 255]\n",
      "  [255 255 255]]\n",
      "\n",
      " [[255 255 255]\n",
      "  [255 255 255]\n",
      "  [255 255 255]\n",
      "  ...\n",
      "  [255 255 255]\n",
      "  [255 255 255]\n",
      "  [255 255 255]]\n",
      "\n",
      " [[255 255 255]\n",
      "  [255 255 255]\n",
      "  [255 255 255]\n",
      "  ...\n",
      "  [255 255 255]\n",
      "  [255 255 255]\n",
      "  [255 255 255]]\n",
      "\n",
      " ...\n",
      "\n",
      " [[255 255 255]\n",
      "  [255 255 255]\n",
      "  [255 255 255]\n",
      "  ...\n",
      "  [255 255 255]\n",
      "  [255 255 255]\n",
      "  [255 255 255]]\n",
      "\n",
      " [[255 255 255]\n",
      "  [255 255 255]\n",
      "  [255 255 255]\n",
      "  ...\n",
      "  [255 255 255]\n",
      "  [255 255 255]\n",
      "  [255 255 255]]\n",
      "\n",
      " [[255 255 255]\n",
      "  [255 255 255]\n",
      "  [255 255 255]\n",
      "  ...\n",
      "  [255 255 255]\n",
      "  [255 255 255]\n",
      "  [255 255 255]]]\n"
     ]
    }
   ],
   "source": [
    "import io\n",
    "import cv2\n",
    "import numpy as np\n",
    "from IPython.display import clear_output, Image, display\n",
    "import PIL.Image\n",
    "\n",
    "\n",
    "def showarray(a, fmt='jpeg'):\n",
    "    \"\"\"\n",
    "    Display images from opencv in Jupyter notebook\n",
    "    \n",
    "    Input: a, opencv image to be displayed\n",
    "           fmt, \n",
    "    \"\"\"\n",
    "    a = np.uint8(np.clip(a, 0, 255))\n",
    "    f = io.BytesIO()\n",
    "    PIL.Image.fromarray(a).save(f, fmt)\n",
    "    display(Image(data=f.getvalue()))\n",
    "    \n",
    "\n",
    "def square_resize(img, target_size=224, color = [255, 255, 255]):\n",
    "    \"\"\"\n",
    "    Code courtsey of jdhao, LastMod 2019-01-08, License CC BY-NC-ND 4.0\n",
    "    https://jdhao.github.io/2017/11/06/resize-image-to-square-with-padding/\n",
    "    \n",
    "    Resizes input image to a padded square of given size. Biggest dimension is resized\n",
    "    to specified size, smallest dimension is resized proportionally and then padded to\n",
    "    achieve correct size.\n",
    "    \n",
    "    Input: img, image to resize\n",
    "           target_size, int specifying one dimension of square, default 224 (resnet)\n",
    "           color = list of r,g,b values, default white (plankton data set)\n",
    "    \"\"\"\n",
    "    original_shape = np.shape(img)[:2]    \n",
    "    ratio = target_size/max(original_shape)\n",
    "    \n",
    "    # calculate both dimensions using the ratio between target and actual shape\n",
    "    \n",
    "    new_size = tuple([int(x*ratio) for x in original_shape])\n",
    "    \n",
    "    # choose interpolation method\n",
    "    if (new_size[0]>original_shape[0]):\n",
    "        # if image is growing, use cubic interpolation\n",
    "        ipol = cv2.INTER_CUBIC\n",
    "    else:\n",
    "        # if we are shrinking the image, use this instead\n",
    "        ipol = cv2.INTER_AREA\n",
    "    \n",
    "    # resize, maintaining aspect\n",
    "    img = cv2.resize(img, (new_size[1], new_size[0]),  interpolation=ipol)\n",
    "    \n",
    "    # calculate where we're missing some padding\n",
    "    delta_w = target_size - new_size[1]\n",
    "    delta_h = target_size - new_size[0]\n",
    "    top, bottom = delta_h//2, delta_h-(delta_h//2)\n",
    "    left, right = delta_w//2, delta_w-(delta_w//2)\n",
    "    \n",
    "    # add padding to image to get to final shape\n",
    "    new_img = cv2.copyMakeBorder(img, top, bottom, left, right, cv2.BORDER_CONSTANT, value=color)\n",
    "    \n",
    "    return new_img\n",
    "    \n",
    "\n",
    "img = cv2.imread('sample.jpg')\n",
    "showarray(img)\n",
    "new_img = square_resize(img)\n",
    "showarray(new_img)\n",
    "print(np.shape(new_img))\n",
    "print(new_img)\n",
    "\n",
    "\n"
   ]
  },
  {
   "cell_type": "code",
   "execution_count": null,
   "metadata": {},
   "outputs": [],
   "source": []
  }
 ],
 "metadata": {
  "kernelspec": {
   "display_name": "Python 3",
   "language": "python",
   "name": "python3"
  },
  "language_info": {
   "codemirror_mode": {
    "name": "ipython",
    "version": 3
   },
   "file_extension": ".py",
   "mimetype": "text/x-python",
   "name": "python",
   "nbconvert_exporter": "python",
   "pygments_lexer": "ipython3",
   "version": "3.6.8"
  }
 },
 "nbformat": 4,
 "nbformat_minor": 2
}
